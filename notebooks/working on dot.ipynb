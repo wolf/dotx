{
 "cells": [
  {
   "cell_type": "code",
   "execution_count": 1,
   "id": "eae08607",
   "metadata": {},
   "outputs": [
    {
     "name": "stdout",
     "output_type": "stream",
     "text": [
      "3.10.5 (main, Jun 15 2022, 12:41:18) [Clang 13.1.6 (clang-1316.0.21.2.5)]\n"
     ]
    }
   ],
   "source": [
    "import sys\n",
    "print(sys.version)"
   ]
  },
  {
   "cell_type": "code",
   "execution_count": 48,
   "id": "c58fc680-e3b7-49ea-8547-abc1e9d075c8",
   "metadata": {},
   "outputs": [],
   "source": [
    "import os\n",
    "from pathlib import Path\n",
    "from sys import stderr"
   ]
  },
  {
   "cell_type": "code",
   "execution_count": 49,
   "id": "5c9ec3ec",
   "metadata": {},
   "outputs": [
    {
     "name": "stdout",
     "output_type": "stream",
     "text": [
      "/Users/wolf/builds/dotfiles\n"
     ]
    }
   ],
   "source": [
    "cd ~/builds/dotfiles/"
   ]
  },
  {
   "cell_type": "code",
   "execution_count": 50,
   "id": "926c40cc-b978-4ebe-ab84-c548e56f6c25",
   "metadata": {},
   "outputs": [],
   "source": [
    "def mark_all_children_not_already_marked(source_package_root: Path, exclude_dirs: list[str], parent: Path, mark: str, plan: dict[Path, str]):\n",
    "    leaf = source_package_root / parent\n",
    "    for child in leaf.iterdir():\n",
    "        f = child.relative_to(source_package_root)\n",
    "        if should_exclude_this_object(child, exclude_dirs):\n",
    "            continue\n",
    "        if f not in plan:\n",
    "            plan[f] = mark\n",
    "\n",
    "def mark_all_parents(leaf: Path, mark: str, stop_mark: str, plan: dict[Path, str]):\n",
    "    for parent in leaf.parents:\n",
    "        if parent in plan and plan[parent] == stop_mark:\n",
    "            break\n",
    "        plan[parent] = mark\n",
    "\n",
    "def should_exclude_this_object(directory: Path, exclude_dirs: list[str])->bool:\n",
    "    dir_list = directory.parts\n",
    "    for exclude_dir in exclude_dirs:\n",
    "        if exclude_dir in dir_list:\n",
    "            return True\n",
    "    return False"
   ]
  },
  {
   "cell_type": "code",
   "execution_count": 51,
   "id": "d0bfb169-9897-430f-be2e-9fcb9e42a8f7",
   "metadata": {},
   "outputs": [],
   "source": [
    "def debug_print_plan(source_package_root: Path, plan: dict[Path, str]):\n",
    "    for dirpath, dirnames, filenames in os.walk(source_package_root):\n",
    "        full_target = Path(dirpath)\n",
    "        target = full_target.relative_to(source_package_root)\n",
    "        \n",
    "        if target in plan:\n",
    "            print(f\"{target}: '{plan[target]}'\")\n",
    "            for filename in filenames:\n",
    "                file = target / filename\n",
    "                if file in plan:\n",
    "                    print(f\"{file}: '{plan[file]}'\")"
   ]
  },
  {
   "cell_type": "code",
   "execution_count": 57,
   "id": "4ebe748f-ed31-46eb-b5e4-d57b3edab195",
   "metadata": {},
   "outputs": [],
   "source": [
    "def plan_install(source_package_root: Path, destination: Path, exclude_dirs: list[str]) -> dict[Path, str]:\n",
    "    plan: dict[Path, str] = {}\n",
    "\n",
    "    for dirpath, dirnames, filenames in os.walk(source_package_root, False):\n",
    "        full_target = Path(dirpath)\n",
    "        if should_exclude_this_object(full_target, exclude_dirs):\n",
    "            continue\n",
    "\n",
    "        target = full_target.relative_to(source_package_root)\n",
    "        dest = destination_root / target\n",
    "\n",
    "        if full_target == source_package_root:\n",
    "            plan[target] = \"exists\"\n",
    "        elif list(full_target.glob(\"dot-*\")):\n",
    "            plan[target] = \"create\"\n",
    "            mark_all_parents(target, mark=\"create\", stop_mark=\"exists\", plan=plan)\n",
    "        elif dest.exists:\n",
    "            plan[target] = \"exists\"\n",
    "            mark_all_parents(target, mark=\"exists\", stop_mark=\"exists\", plan=plan)\n",
    "        else:\n",
    "            plan[target] = \"link\"\n",
    "\n",
    "        if plan[target] in {\"create\", \"exists\"}:\n",
    "            mark_all_children_not_already_marked(source_package_root, exclude_dirs, target, mark=\"link\", plan=plan)\n",
    "        elif plan[target] == \"link\":\n",
    "            mark_all_children_not_already_marked(source_package_root, exclude_dirs, target, mark=\"skip\", plan=plan)\n",
    "    \n",
    "    del plan[Path(\".\")]\n",
    "    return plan\n"
   ]
  },
  {
   "cell_type": "code",
   "execution_count": 58,
   "id": "bb8b3cfd-2cfd-4d63-bfca-4efc3fd85083",
   "metadata": {},
   "outputs": [
    {
     "name": "stdout",
     "output_type": "stream",
     "text": [
      ".config: 'exists'\n",
      ".config/karabiner.edn: 'link'\n"
     ]
    }
   ],
   "source": [
    "exclude_dirs = ['.mypy_cache']\n",
    "source_package_root = Path('karabiner')\n",
    "destination_root = Path('~')\n",
    "\n",
    "plan = plan_install(source_package_root, destination_root, exclude_dirs)\n",
    "\n",
    "debug_print_plan(source_package_root, plan)"
   ]
  },
  {
   "cell_type": "code",
   "execution_count": null,
   "id": "4d80c8e1-4374-4cde-8a71-358eb95764df",
   "metadata": {},
   "outputs": [],
   "source": []
  }
 ],
 "metadata": {
  "kernelspec": {
   "display_name": "Python 3 (ipykernel)",
   "language": "python",
   "name": "python3"
  },
  "language_info": {
   "codemirror_mode": {
    "name": "ipython",
    "version": 3
   },
   "file_extension": ".py",
   "mimetype": "text/x-python",
   "name": "python",
   "nbconvert_exporter": "python",
   "pygments_lexer": "ipython3",
   "version": "3.10.5"
  }
 },
 "nbformat": 4,
 "nbformat_minor": 5
}
